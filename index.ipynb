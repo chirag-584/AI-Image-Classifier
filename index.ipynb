{
 "cells": [
  {
   "cell_type": "code",
   "id": "initial_id",
   "metadata": {
    "collapsed": true,
    "ExecuteTime": {
     "end_time": "2024-06-15T12:38:11.507711Z",
     "start_time": "2024-06-15T12:38:11.489005Z"
    }
   },
   "source": [
    "%%writefile app.py\n",
    "from __future__ import division, print_function\n",
    "# coding=utf-8\n",
    "import os\n",
    "import numpy as np\n",
    "import streamlit as st\n",
    "from keras.applications.imagenet_utils import preprocess_input, decode_predictions\n",
    "from keras.models import load_model\n",
    "from keras.preprocessing import image\n",
    "\n",
    "# Load your trained model\n",
    "MODEL_PATH = 'modelfordashboard.h5'\n",
    "model = load_model(MODEL_PATH)\n",
    "\n",
    "def model_predict(img_path, model):\n",
    "    img = image.load_img(img_path, target_size=(224, 224))\n",
    "    # Preprocessing the image\n",
    "    x = image.img_to_array(img)\n",
    "    x = np.expand_dims(x, axis=0)\n",
    "    x = preprocess_input(x)\n",
    "    preds = model.predict(x)\n",
    "    return preds\n",
    "\n",
    "# Streamlit app\n",
    "st.title(\"AI Image Classifier\")\n",
    "\n",
    "# Upload image\n",
    "uploaded_file = st.file_uploader(\"Choose an image...\", type=\"jpg\")\n",
    "\n",
    "if uploaded_file is not None:\n",
    "    # Save the uploaded image\n",
    "    file_path = os.path.join(\"uploads\", uploaded_file.name)\n",
    "    with open(file_path, \"wb\") as f:\n",
    "        f.write(uploaded_file.getbuffer())\n",
    "\n",
    "    # Display the uploaded image\n",
    "    st.image(uploaded_file, caption='Uploaded Image.', use_column_width=True)\n",
    "    st.write(\"\")\n",
    "\n",
    "    # Make prediction\n",
    "    preds = model_predict(file_path, model)\n",
    "\n",
    "    # Decode and display the result\n",
    "    pred_class = \"AI-generated\" if preds[0][0] >= 0.5 else \"Real image\"\n",
    "    st.write(f\"Prediction: {pred_class}\")\n",
    "\n",
    "if not os.path.exists('uploads'):\n",
    "    os.makedirs('uploads')\n"
   ],
   "outputs": [
    {
     "name": "stdout",
     "output_type": "stream",
     "text": [
      "Overwriting app.py\n"
     ]
    }
   ],
   "execution_count": 7
  },
  {
   "metadata": {},
   "cell_type": "code",
   "outputs": [],
   "execution_count": null,
   "source": "",
   "id": "9efe311f4f378af9"
  }
 ],
 "metadata": {
  "kernelspec": {
   "display_name": "Python 3",
   "language": "python",
   "name": "python3"
  },
  "language_info": {
   "codemirror_mode": {
    "name": "ipython",
    "version": 2
   },
   "file_extension": ".py",
   "mimetype": "text/x-python",
   "name": "python",
   "nbconvert_exporter": "python",
   "pygments_lexer": "ipython2",
   "version": "2.7.6"
  }
 },
 "nbformat": 4,
 "nbformat_minor": 5
}
